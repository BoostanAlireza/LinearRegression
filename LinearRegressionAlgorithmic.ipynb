{
 "cells": [
  {
   "cell_type": "code",
   "execution_count": null,
   "metadata": {},
   "outputs": [],
   "source": [
    "import numpy as np\n",
    "import matplotlib.pyplot as plt\n",
    "from sklearn.datasets import make_regression\n",
    "from sklearn.metrics import mean_squared_error, r2_score\n",
    "from sklearn.linear_model import LinearRegression"
   ]
  },
  {
   "cell_type": "code",
   "execution_count": null,
   "metadata": {},
   "outputs": [],
   "source": [
    "X, y = make_regression(\n",
    "    n_samples=100,\n",
    "    n_features=1,\n",
    "    noise=10,\n",
    "    random_state=42\n",
    ")\n",
    "\n",
    "plt.scatter(X, y, color='blue')\n",
    "plt.xlabel('X (Feature)')\n",
    "plt.ylabel('y (Target)')\n",
    "plt.title('Sample Data')\n",
    "plt.show()"
   ]
  },
  {
   "cell_type": "code",
   "execution_count": null,
   "metadata": {},
   "outputs": [],
   "source": [
    "def gradient_descent(X, y, learning_rate=0.01, iterations=1000):\n",
    "    m = 0\n",
    "    b = 0\n",
    "    n = len(y)\n",
    "\n",
    "    for _ in range(iterations):\n",
    "        y_pred = m * X + b\n",
    "        error = y - y_pred\n",
    "\n",
    "        dm = (-2/n) * np.sum(X * error)\n",
    "        db = (-2/n) * np.sum(error)\n",
    "\n",
    "        m -= learning_rate * dm\n",
    "        b -= learning_rate * db\n",
    "    return m, b"
   ]
  },
  {
   "cell_type": "code",
   "execution_count": null,
   "metadata": {},
   "outputs": [],
   "source": [
    "X_flatt = X.flatten()\n",
    "\n",
    "m, b = gradient_descent(X_flatt, y, learning_rate=0.01, iterations=1000)\n",
    "print(f\"Slope (m): {m:.3f}, Intercept (b): {b:.3f}\")"
   ]
  },
  {
   "cell_type": "code",
   "execution_count": null,
   "metadata": {},
   "outputs": [],
   "source": [
    "plt.scatter(X, y, color='blue', label='Data Points')\n",
    "plt.plot(X, m * X + b, color='red', label='Best Fit Line')\n",
    "plt.xlabel('X (Feature)')\n",
    "plt.ylabel('y (Target)')\n",
    "plt.title(\"Linear Regression using Gradient Descent\")\n",
    "plt.legend()\n",
    "plt.show()"
   ]
  },
  {
   "cell_type": "code",
   "execution_count": null,
   "metadata": {},
   "outputs": [],
   "source": [
    "y_pred = m * X_flatt + b\n",
    "\n",
    "mse = mean_squared_error(y, y_pred)\n",
    "r2 = r2_score(y, y_pred)\n",
    "\n",
    "print(f\"Mean Squared Error: {mse:.2f}\")\n",
    "print(f\"R² Score: {r2:.2f}\")"
   ]
  }
 ],
 "metadata": {
  "kernelspec": {
   "display_name": "Python 3 (ipykernel)",
   "language": "python",
   "name": "python3"
  },
  "language_info": {
   "codemirror_mode": {
    "name": "ipython",
    "version": 3
   },
   "file_extension": ".py",
   "mimetype": "text/x-python",
   "name": "python",
   "nbconvert_exporter": "python",
   "pygments_lexer": "ipython3",
   "version": "3.12.9"
  }
 },
 "nbformat": 4,
 "nbformat_minor": 4
}
