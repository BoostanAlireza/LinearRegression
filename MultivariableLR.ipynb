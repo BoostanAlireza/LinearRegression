{
 "cells": [
  {
   "cell_type": "code",
   "execution_count": null,
   "id": "220a8e3d-6a4d-41b7-aba8-854fb1b8c2a3",
   "metadata": {},
   "outputs": [],
   "source": [
    "import numpy as np\n",
    "import matplotlib.pyplot as plt\n",
    "from sklearn.datasets import make_regression\n",
    "from sklearn.linear_model import LinearRegression\n",
    "from sklearn.preprocessing import StandardScaler\n",
    "from sklearn.metrics import mean_squared_error, r2_score\n",
    "from mpl_toolkits.mplot3d import Axes3D"
   ]
  },
  {
   "cell_type": "code",
   "execution_count": null,
   "id": "97b74547-1c4c-47ef-bf55-169a032102d6",
   "metadata": {},
   "outputs": [],
   "source": [
    "X, y = make_regression(\n",
    "    n_samples=100,\n",
    "    n_features=3,\n",
    "    noise=15,\n",
    "    random_state=42\n",
    ")\n",
    "\n",
    "print(X.shape)\n",
    "print(y.shape)"
   ]
  },
  {
   "cell_type": "code",
   "execution_count": null,
   "id": "8c9c407f-f5ad-4c42-a0ff-a5f79efc8d2b",
   "metadata": {},
   "outputs": [],
   "source": [
    "model = LinearRegression()\n",
    "model.fit(X, y)"
   ]
  },
  {
   "cell_type": "code",
   "execution_count": null,
   "id": "d8a535a7-507b-4fbf-b1b4-7969a1cf0285",
   "metadata": {},
   "outputs": [],
   "source": [
    "y_pred = model.predict(X)"
   ]
  },
  {
   "cell_type": "code",
   "execution_count": null,
   "id": "6040860c-a379-4633-a073-4a61e5c8671b",
   "metadata": {},
   "outputs": [],
   "source": [
    "mse = mean_squared_error(y, y_pred)\n",
    "r2 = r2_score(y, y_pred)"
   ]
  },
  {
   "cell_type": "code",
   "execution_count": null,
   "id": "c18cf52c-3b03-45a8-9102-ca7dfdaf2420",
   "metadata": {},
   "outputs": [],
   "source": [
    "print(f\"Weight (w): {model.coef_}\")\n",
    "print(f\"Intercept (b): {model.intercept_:.3f}\")\n",
    "print(f\"MSE: {mse:.2f}\")\n",
    "print(f\"R² Score: {r2:.2f}\")"
   ]
  },
  {
   "cell_type": "code",
   "execution_count": null,
   "id": "d3a32c7b-fd1d-479b-a29c-e3809b23937b",
   "metadata": {},
   "outputs": [],
   "source": [
    "fig, axes = plt.subplots(1, 3, figsize=(15, 4))\n",
    "for i in range(3):\n",
    "    axes[i].scatter(X[:, i], y, color=\"blue\")\n",
    "    axes[i].set_xlabel(f\"x{i+1}\")\n",
    "    axes[i].set_ylabel(\"y\")\n",
    "    axes[i].set_title(f\"Feature x{i+1} vs Target\")\n",
    "plt.tight_layout()\n",
    "plt.show()"
   ]
  },
  {
   "cell_type": "code",
   "execution_count": null,
   "id": "9a1a4267-392f-40c2-9e3f-113ad2c61a68",
   "metadata": {},
   "outputs": [],
   "source": [
    "x1 = np.linspace(X[:, 0].min(), X[:, 0].max(), 20)\n",
    "x2 = np.linspace(X[:, 1].min(), X[:, 1].max(), 20)\n",
    "\n",
    "x1, x2 = np.meshgrid(x1, x2)\n",
    "\n",
    "y_pred = model.intercept_ + model.coef_[0] * x1 + model.coef_[1] * x2"
   ]
  },
  {
   "cell_type": "code",
   "execution_count": null,
   "id": "bb7845e1-5a3f-4436-9554-daa6f88a62dd",
   "metadata": {},
   "outputs": [],
   "source": [
    "fig = plt.figure(figsize=(10, 7))\n",
    "ax = fig.add_subplot(111, projection=\"3d\")\n",
    "\n",
    "ax.scatter(X[:, 0], X[:, 1], y, color=\"blue\", label=\"Data Points\")\n",
    "\n",
    "ax.plot_surface(x1, x2, y_pred, color=\"red\", alpha=0.4, label=\"Best Fit Plane\")\n",
    "\n",
    "# ax.view_init(elev=12, azim=45)\n",
    "\n",
    "ax.set_xlabel(\"Feature X1\")\n",
    "ax.set_ylabel(\"Feature X2\")\n",
    "ax.set_zlabel(\"Target y\")\n",
    "ax.set_title('3D Visualization of Linear Regression Plane')\n",
    "plt.legend()\n",
    "plt.show()"
   ]
  },
  {
   "cell_type": "code",
   "execution_count": null,
   "id": "840a6a15-d733-45ab-b235-8fcd62df16f0",
   "metadata": {},
   "outputs": [],
   "source": [
    "features = [f\"x{i+1}\" for i in range(len(model.coef_))]\n",
    "\n",
    "plt.bar(features, model.coef_, color=\"skyblue\")\n",
    "plt.title(\"Feature Importance (Coefficient Magnitude)\")\n",
    "plt.xlabel(\"Features\")\n",
    "plt.ylabel(\"Coefficient Value\")\n",
    "plt.show()"
   ]
  },
  {
   "cell_type": "code",
   "execution_count": null,
   "id": "e628758b-1fa4-4fa4-8740-deab5b3562a7",
   "metadata": {},
   "outputs": [],
   "source": []
  }
 ],
 "metadata": {
  "kernelspec": {
   "display_name": "Python 3 (ipykernel)",
   "language": "python",
   "name": "python3"
  },
  "language_info": {
   "codemirror_mode": {
    "name": "ipython",
    "version": 3
   },
   "file_extension": ".py",
   "mimetype": "text/x-python",
   "name": "python",
   "nbconvert_exporter": "python",
   "pygments_lexer": "ipython3",
   "version": "3.12.9"
  }
 },
 "nbformat": 4,
 "nbformat_minor": 5
}
